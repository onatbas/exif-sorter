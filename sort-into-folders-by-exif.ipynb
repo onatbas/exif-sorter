{
 "cells": [
  {
   "cell_type": "code",
   "execution_count": null,
   "metadata": {},
   "outputs": [],
   "source": [
    "import os,datetime\n",
    "from PIL import Image,ExifTags\n",
    "import re\n",
    "import hashlib\n",
    "from hachoir.parser import createParser\n",
    "import warnings\n",
    "from hachoir.metadata import extractMetadata"
   ]
  },
  {
   "cell_type": "code",
   "execution_count": null,
   "metadata": {},
   "outputs": [],
   "source": [
    "def creation_date_of_video(filename):\n",
    "    warnings.simplefilter(\"ignore\")\n",
    "    parser = createParser(filename)\n",
    "    metadata = extractMetadata(parser)\n",
    "    return metadata.get('creation_date').strftime(\"%Y_%m_%d %H_%M_%S\")"
   ]
  },
  {
   "cell_type": "code",
   "execution_count": null,
   "metadata": {},
   "outputs": [],
   "source": [
    "# Don't call this directly..\n",
    "def get_exif_date_proxy(file):\n",
    "    try:\n",
    "        img = Image.open(file)\n",
    "        try:\n",
    "            return img._getexif()[36867]\n",
    "        except:\n",
    "            try: \n",
    "                return img._getexif()[306]\n",
    "            except:    \n",
    "                return None\n",
    "    except:\n",
    "         try:\n",
    "            return creation_date_of_video(file)\n",
    "         except:\n",
    "            return None\n",
    "\n",
    "\n",
    "        \n",
    "def get_exif_date(file):\n",
    "    result = get_exif_date_proxy(file)\n",
    "    if  result is None:\n",
    "        return None\n",
    "    else:\n",
    "        result = re.sub(':', '_', result)\n",
    "        if re.search('[0-9]{4}_[0-9]{2}_[0-9]{2} [0-9]{2}_[0-9]{2}_[0-9]{2}', result) is None:\n",
    "            return None\n",
    "        else:\n",
    "            dateparsed = datetime.datetime.strptime(result, \"%Y_%m_%d %H_%M_%S\").year\n",
    "            if dateparsed < 1991 or dateparsed > 2025:\n",
    "                print('Tarihten red: ' + file)\n",
    "                return None\n",
    "            return result\n"
   ]
  },
  {
   "cell_type": "code",
   "execution_count": null,
   "metadata": {},
   "outputs": [],
   "source": [
    "def rename_preserving_extension(file, name):\n",
    "    filename = re.sub('^\\.\\/', '', str(file))\n",
    "    correctName = name + re.search('\\.([^\\.]+)$', filename).group()\n",
    "    correctName = re.sub('[^0-9A-Z-_\\.a-z\\/]', '', correctName)\n",
    "    os.rename(file, correctName);"
   ]
  },
  {
   "cell_type": "code",
   "execution_count": null,
   "metadata": {},
   "outputs": [],
   "source": [
    "def exif_create_folder_for_date(file):\n",
    "    result = get_exif_date(file)\n",
    "    result = re.sub(':', '_', result)\n",
    "    result = re.sub('.{9}$', '', result)\n",
    "    year = re.search('[0-9]{4}', result).group()\n",
    "    try:\n",
    "        os.mkdir(year)\n",
    "    except:\n",
    "        None\n",
    "    try:\n",
    "        os.mkdir(year + '/' + result)\n",
    "    except:\n",
    "        None\n",
    "    return year + '/' + result\n"
   ]
  },
  {
   "cell_type": "code",
   "execution_count": null,
   "metadata": {},
   "outputs": [],
   "source": [
    "def exif_get_hour_of_creation(file):\n",
    "    result = get_exif_date(file)\n",
    "    result = re.sub(':', '_', result)\n",
    "    result = re.sub('^.{11}', '', result)\n",
    "    return result"
   ]
  },
  {
   "cell_type": "code",
   "execution_count": null,
   "metadata": {},
   "outputs": [],
   "source": [
    "def md5sum(filename):\n",
    "    md5_hash = hashlib.md5()\n",
    "    with open(filename,\"rb\") as f:\n",
    "        # Read and update hash in chunks of 4K\n",
    "        for byte_block in iter(lambda: f.read(4096),b\"\"):\n",
    "            md5_hash.update(byte_block)\n",
    "        return re.search('^.{5}', md5_hash.hexdigest()).group()"
   ]
  },
  {
   "cell_type": "code",
   "execution_count": null,
   "metadata": {},
   "outputs": [],
   "source": [
    "directory = os.fsencode('.')\n",
    "    \n",
    "    \n",
    "for root,d_names,f_names in os.walk('.'):\n",
    "    if re.search('[0-9]{4}\\/[0-9]{4}_[0-9]{2}_[0-9]{2}', str(root)) is None:\n",
    "        for f in f_names:\n",
    "            file = os.path.join(root, f)\n",
    "        \n",
    "            if get_exif_date(file) is None:\n",
    "                None # Skip\n",
    "            else:\n",
    "                folder = exif_create_folder_for_date(file)\n",
    "                newname = folder + '/' + exif_get_hour_of_creation(file) + '_' + md5sum(file)\n",
    "                rename_preserving_extension(file, newname)\n",
    "                print(file + \" -----> \" + newname)\n",
    "print('end')"
   ]
  },
  {
   "cell_type": "code",
   "execution_count": null,
   "metadata": {},
   "outputs": [],
   "source": []
  },
  {
   "cell_type": "code",
   "execution_count": null,
   "metadata": {},
   "outputs": [],
   "source": []
  }
 ],
 "metadata": {
  "kernelspec": {
   "display_name": "Python 3",
   "language": "python",
   "name": "python3"
  },
  "language_info": {
   "codemirror_mode": {
    "name": "ipython",
    "version": 3
   },
   "file_extension": ".py",
   "mimetype": "text/x-python",
   "name": "python",
   "nbconvert_exporter": "python",
   "pygments_lexer": "ipython3",
   "version": "3.8.1"
  }
 },
 "nbformat": 4,
 "nbformat_minor": 4
}
