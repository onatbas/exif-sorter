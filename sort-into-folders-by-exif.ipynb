{
 "cells": [
  {
   "cell_type": "code",
   "execution_count": 91,
   "metadata": {},
   "outputs": [],
   "source": [
    "import os,datetime\n",
    "from PIL import Image,ExifTags\n",
    "import re\n",
    "import hashlib\n",
    "from hachoir.parser import createParser\n",
    "import warnings\n",
    "from hachoir.metadata import extractMetadata\n",
    "import piexif"
   ]
  },
  {
   "cell_type": "code",
   "execution_count": 92,
   "metadata": {},
   "outputs": [],
   "source": [
    "def filename_to_date_via_format(file, formatt):\n",
    "    result = datetime.datetime.strptime(file, formatt).strftime(\"%Y:%m:%d %H:%M:%S\")\n",
    "    return result"
   ]
  },
  {
   "cell_type": "code",
   "execution_count": 93,
   "metadata": {},
   "outputs": [],
   "source": [
    "def creation_date_of_video(filename):\n",
    "    \n",
    "    # Special cases..\n",
    "    #video-2012-12-29-18-40-59.mp4\n",
    "    if re.search('video-[0-9]{4}-[0-9]{2}-[0-9]{2}-[0-9]{2}-[0-9]{2}-[0-9]{2}.mp4', filename) is not None:\n",
    "        \n",
    "        return filename_to_date_via_format(re.sub('.+video', 'video', filename), 'video-%Y-%m-%d-%H-%M-%S.mp4')\n",
    "    \n",
    "    parser = createParser(filename)\n",
    "    metadata = extractMetadata(parser)\n",
    "    return metadata.get('creation_date').strftime(\"%Y_%m_%d %H_%M_%S\")"
   ]
  },
  {
   "cell_type": "code",
   "execution_count": 94,
   "metadata": {},
   "outputs": [],
   "source": [
    "def replace_exif(file, datetime_object):\n",
    "    \n",
    "    if re.search('[mMpP]4$', file) is not None:\n",
    "        return\n",
    "\n",
    "    img = Image.open(file)\n",
    "\n",
    "    try:\n",
    "        # If the image already contains data, we only replace the relevant properties\n",
    "        exif_dict = piexif.load(img.info['exif'])\n",
    "     #   print(f\"Exif load for file '{file}'' successful\")\n",
    "    except KeyError:\n",
    "        # If the image has no Exif data, we create the relevant properties\n",
    "     #   print(f\"No Exif data for file '{file}', creating Exif data instead...\")\n",
    "        exif_dict = {}\n",
    "        exif_dict[\"0th\"] = {}\n",
    "        exif_dict[\"Exif\"] = {}\n",
    "\n",
    "    # We now have a useful Exif dict, time to adjust the values\n",
    "    d = datetime_object\n",
    "    exif_dict[\"Exif\"][36868] = d\n",
    "    exif_dict[\"Exif\"][36867] = d\n",
    "    exif_dict[\"0th\"][306] = d\n",
    "\n",
    "    # Convert into bytes and dump into file\n",
    "    exif_bytes = piexif.dump(exif_dict)\n",
    "    piexif.insert(exif_bytes, file)\n",
    "    print(f\"SUCCESS: Exif data replacement for file '{file}' successful\")"
   ]
  },
  {
   "cell_type": "code",
   "execution_count": 95,
   "metadata": {},
   "outputs": [],
   "source": [
    "def creation_date_by_filename(filename, root):\n",
    "    if re.search('\\.([pngPNGjpgJPGEe]{3,4})$', filename) is None:\n",
    "        return None\n",
    "\n",
    "    try:\n",
    "        cleanup = re.sub('\\n', '', open(os.path.join(root, 'cleanup.txt'),'r').read())\n",
    "        formatt = re.sub('\\n', '', open(os.path.join(root, 'format.txt'),'r').read())\n",
    "\n",
    "        name_tobeformatted = re.search(cleanup, filename).group()\n",
    "        date = filename_to_date_via_format(name_tobeformatted, formatt)\n",
    "        \n",
    "        try:\n",
    "            replace_exif(filename)\n",
    "        except:\n",
    "            print('Moving file but could not write exif data. ' + filename)\n",
    "        return date\n",
    "    except:\n",
    "        return None"
   ]
  },
  {
   "cell_type": "code",
   "execution_count": 96,
   "metadata": {},
   "outputs": [],
   "source": [
    "# Don't call this directly..\n",
    "def get_exif_date_proxy(file, root):\n",
    "    try:\n",
    "        img = Image.open(file)\n",
    "        try:\n",
    "            return img._getexif()[36867]\n",
    "        except:\n",
    "            try: \n",
    "                return img._getexif()[306]\n",
    "            except:    \n",
    "                raise Error('No exif in it')\n",
    "    except:\n",
    "         try:\n",
    "            return creation_date_of_video(file)\n",
    "         except:\n",
    "                try:\n",
    "                    return creation_date_by_filename(file, root)\n",
    "                except:\n",
    "                    return None\n",
    "\n",
    "\n",
    "        \n",
    "def get_exif_date(file, root):\n",
    "    result = get_exif_date_proxy(file, root)\n",
    "    if  result is None:\n",
    "        return None\n",
    "    else:\n",
    "        result = re.sub(':', '_', result)\n",
    "        if re.search('[0-9]{4}_[0-9]{2}_[0-9]{2} [0-9]{2}_[0-9]{2}_[0-9]{2}', result) is None:\n",
    "            return None\n",
    "        else:\n",
    "            dateparsed = datetime.datetime.strptime(result, \"%Y_%m_%d %H_%M_%S\").year\n",
    "            if dateparsed < 1991 or dateparsed > 2025:\n",
    "                print('Tarihten red: ' + file)\n",
    "                return None\n",
    "            return result\n"
   ]
  },
  {
   "cell_type": "code",
   "execution_count": 97,
   "metadata": {},
   "outputs": [],
   "source": [
    "def rename_preserving_extension(file, name):\n",
    "    filename = re.sub('^\\.\\/', '', str(file))\n",
    "    correctName = name + re.search('\\.([^\\.]+)$', filename).group()\n",
    "    correctName = re.sub('[^0-9A-Z-_\\.a-z\\/]', '', correctName)\n",
    "    os.rename(file, correctName);"
   ]
  },
  {
   "cell_type": "code",
   "execution_count": 98,
   "metadata": {},
   "outputs": [],
   "source": [
    "def exif_create_folder_for_date(file, root):\n",
    "    result = get_exif_date(file, root)\n",
    "    result = re.sub(':', '_', result)\n",
    "    result = re.sub('.{9}$', '', result)\n",
    "    year = re.search('[0-9]{4}', result).group()\n",
    "    try:\n",
    "        os.mkdir(year)\n",
    "    except:\n",
    "        None\n",
    "    try:\n",
    "        os.mkdir(year + '/' + result)\n",
    "    except:\n",
    "        None\n",
    "    return year + '/' + result\n"
   ]
  },
  {
   "cell_type": "code",
   "execution_count": 99,
   "metadata": {},
   "outputs": [],
   "source": [
    "def exif_get_hour_of_creation(file, root):\n",
    "    result = get_exif_date(file, root)\n",
    "    result = re.sub(':', '_', result)\n",
    "    result = re.sub('^.{11}', '', result)\n",
    "    return result"
   ]
  },
  {
   "cell_type": "code",
   "execution_count": 100,
   "metadata": {},
   "outputs": [],
   "source": [
    "def md5sum(filename):\n",
    "    md5_hash = hashlib.md5()\n",
    "    with open(filename,\"rb\") as f:\n",
    "        # Read and update hash in chunks of 4K\n",
    "        for byte_block in iter(lambda: f.read(4096),b\"\"):\n",
    "            md5_hash.update(byte_block)\n",
    "        return re.search('^.{5}', md5_hash.hexdigest()).group()"
   ]
  },
  {
   "cell_type": "code",
   "execution_count": 104,
   "metadata": {},
   "outputs": [
    {
     "name": "stdout",
     "output_type": "stream",
     "text": [
      "processing path: .\n"
     ]
    },
    {
     "name": "stderr",
     "output_type": "stream",
     "text": [
      "[warn] [<NdsFile>] Error when getting size of 'header': delete it\n",
      "[warn] [<NdsFile>] Error when getting size of 'header': delete it\n",
      "[warn] [<NdsFile>] Error when getting size of 'header': delete it\n",
      "[warn] [<NdsFile>] Error when getting size of 'header': delete it\n",
      "[warn] [<NdsFile>] Error when getting size of 'header': delete it\n",
      "[warn] [<NdsFile>] Error when getting size of 'header': delete it\n",
      "[warn] [/exif/content] [Autofix] Fix parser error: stop parser, found unparsed segment: start 80176, length 16\n"
     ]
    },
    {
     "name": "stdout",
     "output_type": "stream",
     "text": [
      "processing path: ./asd\n",
      "processing path: ./asd/2021_11_11\n"
     ]
    },
    {
     "name": "stderr",
     "output_type": "stream",
     "text": [
      "[warn] [<JpegFile>] Only supporting Baseline & Extended Sequential JPEG images so far!\n"
     ]
    },
    {
     "name": "stdout",
     "output_type": "stream",
     "text": [
      "processing path: ./util\n",
      "processing path: ./__pycache__\n"
     ]
    },
    {
     "name": "stderr",
     "output_type": "stream",
     "text": [
      "[warn] Skip parser 'PythonCompiledFile': Unknown magic number (3413)\n",
      "[warn] [<NdsFile>] Error when getting size of 'header': delete it\n"
     ]
    },
    {
     "name": "stdout",
     "output_type": "stream",
     "text": [
      "processing path: ./removed\n",
      "processing path: ./Rooll\n"
     ]
    },
    {
     "name": "stderr",
     "output_type": "stream",
     "text": [
      "[warn] [/exif/content] [Autofix] Fix parser error: stop parser, found unparsed segment: start 80176, length 16\n"
     ]
    },
    {
     "name": "stdout",
     "output_type": "stream",
     "text": [
      "Moving file but could not write exif data. ./Rooll/20210227_133615431_iOS.jpg\n"
     ]
    },
    {
     "name": "stderr",
     "output_type": "stream",
     "text": [
      "[warn] [/exif/content] [Autofix] Fix parser error: stop parser, found unparsed segment: start 80176, length 16\n"
     ]
    },
    {
     "name": "stdout",
     "output_type": "stream",
     "text": [
      "Moving file but could not write exif data. ./Rooll/20210227_133615431_iOS.jpg\n"
     ]
    },
    {
     "name": "stderr",
     "output_type": "stream",
     "text": [
      "[warn] [/exif/content] [Autofix] Fix parser error: stop parser, found unparsed segment: start 80176, length 16\n"
     ]
    },
    {
     "name": "stdout",
     "output_type": "stream",
     "text": [
      "Moving file but could not write exif data. ./Rooll/20210227_133615431_iOS.jpg\n",
      "./Rooll/20210227_133615431_iOS.jpg -----> 2021/2021_02_27/13_36_15_53776\n",
      "ignored path: ./.ipynb_checkpoints\n",
      "ignored path: ./.git\n",
      "ignored path: ./.git/objects\n",
      "ignored path: ./.git/objects/66\n",
      "ignored path: ./.git/objects/3e\n",
      "ignored path: ./.git/objects/6f\n",
      "ignored path: ./.git/objects/69\n",
      "ignored path: ./.git/objects/58\n",
      "ignored path: ./.git/objects/0b\n",
      "ignored path: ./.git/objects/5f\n",
      "ignored path: ./.git/objects/05\n",
      "ignored path: ./.git/objects/b5\n",
      "ignored path: ./.git/objects/d7\n",
      "ignored path: ./.git/objects/b3\n",
      "ignored path: ./.git/objects/b4\n",
      "ignored path: ./.git/objects/d6\n",
      "ignored path: ./.git/objects/f3\n",
      "ignored path: ./.git/objects/fe\n",
      "ignored path: ./.git/objects/ed\n",
      "ignored path: ./.git/objects/4b\n",
      "ignored path: ./.git/objects/pack\n",
      "ignored path: ./.git/objects/11\n",
      "ignored path: ./.git/objects/6e\n",
      "ignored path: ./.git/objects/36\n",
      "ignored path: ./.git/objects/info\n",
      "ignored path: ./.git/objects/62\n",
      "ignored path: ./.git/objects/96\n",
      "ignored path: ./.git/objects/98\n",
      "ignored path: ./.git/objects/5e\n",
      "ignored path: ./.git/objects/64\n",
      "ignored path: ./.git/objects/a0\n",
      "ignored path: ./.git/objects/af\n",
      "ignored path: ./.git/objects/a8\n",
      "ignored path: ./.git/objects/b9\n",
      "ignored path: ./.git/objects/e1\n",
      "ignored path: ./.git/objects/f0\n",
      "ignored path: ./.git/objects/fa\n",
      "ignored path: ./.git/objects/f8\n",
      "ignored path: ./.git/objects/41\n",
      "ignored path: ./.git/objects/8d\n",
      "ignored path: ./.git/objects/15\n",
      "ignored path: ./.git/objects/12\n",
      "ignored path: ./.git/objects/76\n",
      "ignored path: ./.git/info\n",
      "ignored path: ./.git/logs\n",
      "ignored path: ./.git/logs/refs\n",
      "ignored path: ./.git/logs/refs/heads\n",
      "ignored path: ./.git/logs/refs/remotes\n",
      "ignored path: ./.git/logs/refs/remotes/origin\n",
      "ignored path: ./.git/hooks\n",
      "ignored path: ./.git/refs\n",
      "ignored path: ./.git/refs/original\n",
      "ignored path: ./.git/refs/original/refs\n",
      "ignored path: ./.git/refs/original/refs/heads\n",
      "ignored path: ./.git/refs/original/refs/remotes\n",
      "ignored path: ./.git/refs/original/refs/remotes/origin\n",
      "ignored path: ./.git/refs/heads\n",
      "ignored path: ./.git/refs/tags\n",
      "ignored path: ./.git/refs/remotes\n",
      "ignored path: ./.git/refs/remotes/origin\n",
      "end\n"
     ]
    }
   ],
   "source": [
    "directory = os.fsencode('.')\n",
    "    \n",
    "for root,d_names,f_names in os.walk('.'):\n",
    "    if re.search('^(\\.\\/[0-9]{4}|\\.\\/[^\\.]*\\.)', str(root)) is None:\n",
    "        print (\"processing path: \" + root)\n",
    "        for f in f_names:\n",
    "            file = os.path.join(root, f)\n",
    "        \n",
    "            if get_exif_date(file, root) is None:\n",
    "                None # Skip\n",
    "            else:\n",
    "                folder = exif_create_folder_for_date(file, root)\n",
    "                newname = folder + '/' + exif_get_hour_of_creation(file, root) + '_' + md5sum(file)\n",
    "                rename_preserving_extension(file, newname)\n",
    "                print(file + \" -----> \" + newname)\n",
    "    else:\n",
    "        print(\"ignored path: \" + root)\n",
    "print('end')"
   ]
  },
  {
   "cell_type": "code",
   "execution_count": null,
   "metadata": {},
   "outputs": [],
   "source": []
  },
  {
   "cell_type": "code",
   "execution_count": null,
   "metadata": {},
   "outputs": [],
   "source": []
  },
  {
   "cell_type": "code",
   "execution_count": null,
   "metadata": {},
   "outputs": [],
   "source": []
  }
 ],
 "metadata": {
  "kernelspec": {
   "display_name": "Python 3",
   "language": "python",
   "name": "python3"
  },
  "language_info": {
   "codemirror_mode": {
    "name": "ipython",
    "version": 3
   },
   "file_extension": ".py",
   "mimetype": "text/x-python",
   "name": "python",
   "nbconvert_exporter": "python",
   "pygments_lexer": "ipython3",
   "version": "3.8.1"
  }
 },
 "nbformat": 4,
 "nbformat_minor": 4
}
