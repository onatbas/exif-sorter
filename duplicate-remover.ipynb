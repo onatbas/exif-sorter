{
 "cells": [
  {
   "cell_type": "code",
   "execution_count": null,
   "metadata": {},
   "outputs": [],
   "source": [
    "import os,datetime\n",
    "import re\n",
    "from skimage import io, img_as_float\n",
    "import numpy as np\n",
    "from IPython.display import Image\n",
    "from IPython.display import display\n",
    "import glob\n",
    "from PIL import Image\n"
   ]
  },
  {
   "cell_type": "code",
   "execution_count": null,
   "metadata": {},
   "outputs": [],
   "source": [
    "def find_mean_of_picture(file):\n",
    "    image = io.imread(file)\n",
    "    image = img_as_float(image)\n",
    "    return np.mean(image)"
   ]
  },
  {
   "cell_type": "code",
   "execution_count": null,
   "metadata": {},
   "outputs": [],
   "source": [
    "def get_smaller_of_two_files(file1, file2):\n",
    "    size1 = os.stat(file1).st_size\n",
    "    size2 = os.stat(file2).st_size\n",
    "    if size1 > size2:\n",
    "        return file2\n",
    "    return file1"
   ]
  },
  {
   "cell_type": "code",
   "execution_count": 1,
   "metadata": {
    "scrolled": true
   },
   "outputs": [
    {
     "ename": "NameError",
     "evalue": "name 'os' is not defined",
     "output_type": "error",
     "traceback": [
      "\u001b[0;31m---------------------------------------------------------------------------\u001b[0m",
      "\u001b[0;31mNameError\u001b[0m                                 Traceback (most recent call last)",
      "\u001b[0;32m<ipython-input-1-e69eba4c0a64>\u001b[0m in \u001b[0;36m<module>\u001b[0;34m\u001b[0m\n\u001b[0;32m----> 1\u001b[0;31m \u001b[0mdirectory\u001b[0m \u001b[0;34m=\u001b[0m \u001b[0mos\u001b[0m\u001b[0;34m.\u001b[0m\u001b[0mfsencode\u001b[0m\u001b[0;34m(\u001b[0m\u001b[0;34m'.'\u001b[0m\u001b[0;34m)\u001b[0m\u001b[0;34m\u001b[0m\u001b[0;34m\u001b[0m\u001b[0m\n\u001b[0m\u001b[1;32m      2\u001b[0m \u001b[0;34m\u001b[0m\u001b[0m\n\u001b[1;32m      3\u001b[0m \u001b[0mdict\u001b[0m \u001b[0;34m=\u001b[0m \u001b[0;34m{\u001b[0m\u001b[0;34m}\u001b[0m\u001b[0;34m\u001b[0m\u001b[0;34m\u001b[0m\u001b[0m\n\u001b[1;32m      4\u001b[0m \u001b[0mprint\u001b[0m\u001b[0;34m(\u001b[0m\u001b[0mdict\u001b[0m\u001b[0;34m)\u001b[0m\u001b[0;34m\u001b[0m\u001b[0;34m\u001b[0m\u001b[0m\n\u001b[1;32m      5\u001b[0m \u001b[0;34m\u001b[0m\u001b[0m\n",
      "\u001b[0;31mNameError\u001b[0m: name 'os' is not defined"
     ]
    }
   ],
   "source": [
    "directory = os.fsencode('.')\n",
    "\n",
    "dict = {}\n",
    "print(dict)\n",
    "    \n",
    "               \n",
    "            \n",
    "try:\n",
    "    os.mkdir('removed')\n",
    "except:\n",
    "    None\n",
    "    \n",
    "    \n",
    "for root,d_names,f_names in os.walk('.'):\n",
    "    if (re.search('^(.{1,2})?[0-9]{4}\\/[0-9]{4}_[0-9]{2}_[0-9]{2}', str(root)) is not None):\n",
    "        for f in f_names:\n",
    "            if re.search('^[0-9]{2}_[0-9]{2}_[0-9]{2}_[0-9a-z]{5}\\.', str(f)) is None:\n",
    "                continue\n",
    "            try:\n",
    "                finalfolder = re.sub('\\.\\/', '', os.path.join('removed', root))\n",
    "             #   print(finalfolder)\n",
    "                \n",
    "                try:\n",
    "                    midfolder = re.sub('\\/[^\\/]+$', '', finalfolder)\n",
    "                  #  print(midfolder)\n",
    "                    os.mkdir(midfolder)\n",
    "                except:\n",
    "                    None\n",
    "                    \n",
    "                os.mkdir(finalfolder)\n",
    "            except:\n",
    "                None\n",
    "            file = os.path.join(root, f)\n",
    "          #  print(file)\n",
    "            timestamp = re.search('\\/([^\\/]+)_[a-z0-9]{5}\\..+$', file).group(1)\n",
    "            if dict.get(timestamp) is None:\n",
    "                dict[timestamp] = []\n",
    "                \n",
    "            dict[timestamp].append(file)\n",
    "            #                print(file + \" \" + str(find_mean_of_picture(file)))\n",
    " \n",
    "    \n",
    "for images in dict:\n",
    "    if len(dict[images]) != 2:\n",
    "        continue\n",
    "    file0 = dict[images][0]\n",
    "    file1 = dict[images][1]\n",
    "    try:\n",
    "        mean0 = find_mean_of_picture(file0)\n",
    "        mean1 = find_mean_of_picture(file1)\n",
    "        diff = mean1 - mean0\n",
    "        if diff > -0.005 and diff < 0.005:\n",
    "            print ('SAME')\n",
    "            image_to_remove = get_smaller_of_two_files(file0, file1)\n",
    "            new_path_of_removed = \"./removed/\" + re.sub('\\.\\/', '', image_to_remove)\n",
    "            os.rename(image_to_remove, new_path_of_removed)\n",
    "            print(file0, file1)\n",
    "\n",
    "\n",
    "        else:\n",
    "            print ('DIFFERENT')\n",
    "            print(file0, file1)\n",
    "    except:\n",
    "        print(\"Couldn't compare \" + file0 + \" \" + file1)\n",
    "    print(\"*****\")\n",
    "\n",
    "        \n",
    "        \n",
    "print('end')\n"
   ]
  },
  {
   "cell_type": "code",
   "execution_count": null,
   "metadata": {},
   "outputs": [],
   "source": []
  },
  {
   "cell_type": "code",
   "execution_count": null,
   "metadata": {},
   "outputs": [],
   "source": []
  }
 ],
 "metadata": {
  "kernelspec": {
   "display_name": "Python 3",
   "language": "python",
   "name": "python3"
  },
  "language_info": {
   "codemirror_mode": {
    "name": "ipython",
    "version": 3
   },
   "file_extension": ".py",
   "mimetype": "text/x-python",
   "name": "python",
   "nbconvert_exporter": "python",
   "pygments_lexer": "ipython3",
   "version": "3.8.1"
  }
 },
 "nbformat": 4,
 "nbformat_minor": 4
}
