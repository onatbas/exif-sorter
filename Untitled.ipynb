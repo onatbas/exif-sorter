{
 "cells": [
  {
   "cell_type": "code",
   "execution_count": 8,
   "metadata": {},
   "outputs": [
    {
     "name": "stdout",
     "output_type": "stream",
     "text": [
      "1\n"
     ]
    },
    {
     "data": {
      "text/plain": [
       "{36864: b'0221',\n",
       " 37121: b'\\x01\\x02\\x03\\x00',\n",
       " 40960: b'0100',\n",
       " 40961: 1,\n",
       " 40962: 3488,\n",
       " 40963: 2400,\n",
       " 41990: 0,\n",
       " 296: 2,\n",
       " 34665: 102,\n",
       " 274: 1,\n",
       " 531: 1,\n",
       " 282: 72.0,\n",
       " 283: 72.0}"
      ]
     },
     "execution_count": 8,
     "metadata": {},
     "output_type": "execute_result"
    }
   ],
   "source": [
    "import os,datetime\n",
    "from PIL import Image,ExifTags\n",
    "import re\n",
    "import hashlib\n",
    "from hachoir.parser import createParser\n",
    "import warnings\n",
    "from hachoir.metadata import extractMetadata\n",
    "\n",
    "# Don't call this directly..\n",
    "def get_exif_date_proxy(file):\n",
    "    try:\n",
    "        img = Image.open(file)\n",
    "        try:\n",
    "            print(\"1\")\n",
    "            return img._getexif()[36867]\n",
    "        except:\n",
    "            try: \n",
    "                print(\"2\")\n",
    "                return img._getexif()[306]\n",
    "            except:    \n",
    "                print(\"3\")\n",
    "                return None\n",
    "    except:\n",
    "        print(\"4\")\n",
    "        return None\n",
    "\n",
    "\n",
    "get_exif_date_proxy(\"20210227_133615431_iOS.jpg\")"
   ]
  },
  {
   "cell_type": "code",
   "execution_count": null,
   "metadata": {},
   "outputs": [],
   "source": []
  }
 ],
 "metadata": {
  "kernelspec": {
   "display_name": "Python 3",
   "language": "python",
   "name": "python3"
  },
  "language_info": {
   "codemirror_mode": {
    "name": "ipython",
    "version": 3
   },
   "file_extension": ".py",
   "mimetype": "text/x-python",
   "name": "python",
   "nbconvert_exporter": "python",
   "pygments_lexer": "ipython3",
   "version": "3.8.1"
  }
 },
 "nbformat": 4,
 "nbformat_minor": 4
}
